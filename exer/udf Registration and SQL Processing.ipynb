{
 "cells": [
  {
   "cell_type": "code",
   "execution_count": 15,
   "id": "2e65967c",
   "metadata": {},
   "outputs": [],
   "source": [
    "import pyspark\n",
    "from pyspark.sql.functions import col, udf\n",
    "from pyspark.sql.types import StringType\n",
    "# Create a SparkSession\n",
    "spark = pyspark.sql.SparkSession.builder.appName(\"UDF Registration\").getOrCreate()\n"
   ]
  },
  {
   "cell_type": "code",
   "execution_count": 23,
   "id": "737ff56b",
   "metadata": {},
   "outputs": [],
   "source": [
    "# Create a DataFrame\n",
    "df = spark.createDataFrame([\n",
    "    (\"안현\", 39),\n",
    "    (\"조익범\", 25),\n",
    "    (\"김현성\", 63),\n",
    "    (\"하수정\", 41),\n",
    "    (\"아이유\", 30)\n",
    "], (\"name\", \"age\"))"
   ]
  },
  {
   "cell_type": "code",
   "execution_count": 24,
   "id": "73a5af12",
   "metadata": {},
   "outputs": [],
   "source": [
    "# Define the UDF\n",
    "def age_category(age):\n",
    "    if age < 35:\n",
    "        return \"young\"\n",
    "    elif age < 60:\n",
    "        return \"adult\"\n",
    "    else:\n",
    "        return \"senior\""
   ]
  },
  {
   "cell_type": "code",
   "execution_count": 25,
   "id": "871b55a6",
   "metadata": {},
   "outputs": [
    {
     "name": "stdout",
     "output_type": "stream",
     "text": [
      "+------+---+------------+\n",
      "|  name|age|age_category|\n",
      "+------+---+------------+\n",
      "|  안현| 39|       adult|\n",
      "|조익범| 25|       young|\n",
      "|김현성| 63|      senior|\n",
      "|하수정| 41|       adult|\n",
      "|아이유| 30|       young|\n",
      "+------+---+------------+\n",
      "\n"
     ]
    }
   ],
   "source": [
    "# Register the UDF\n",
    "udf_age_category = udf(age_category, StringType())\n",
    "\n",
    "# Apply the UDF to the DataFrame\n",
    "df = df.withColumn(\"age_category\", udf_age_category(col(\"age\")))\n",
    "\n",
    "# Show the DataFrame\n",
    "df.show()"
   ]
  },
  {
   "cell_type": "code",
   "execution_count": null,
   "id": "e5e6d6a2",
   "metadata": {},
   "outputs": [],
   "source": []
  }
 ],
 "metadata": {
  "kernelspec": {
   "display_name": "Python 3 (ipykernel)",
   "language": "python",
   "name": "python3"
  },
  "language_info": {
   "codemirror_mode": {
    "name": "ipython",
    "version": 3
   },
   "file_extension": ".py",
   "mimetype": "text/x-python",
   "name": "python",
   "nbconvert_exporter": "python",
   "pygments_lexer": "ipython3",
   "version": "3.9.13"
  }
 },
 "nbformat": 4,
 "nbformat_minor": 5
}
